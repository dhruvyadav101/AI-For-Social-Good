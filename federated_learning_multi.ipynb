{
 "cells": [
  {
   "cell_type": "markdown",
   "metadata": {},
   "source": [
    "federated learning multiclass classification"
   ]
  },
  {
   "cell_type": "code",
   "execution_count": 1,
   "metadata": {},
   "outputs": [
    {
     "name": "stdout",
     "output_type": "stream",
     "text": [
      "TF-IDF vectorizer saved to C:\\Users\\death\\Desktop\\minor_project\\federated_learning\n"
     ]
    }
   ],
   "source": [
    "import pandas as pd\n",
    "from sklearn.model_selection import train_test_split\n",
    "from sklearn.feature_extraction.text import TfidfVectorizer\n",
    "from sklearn.preprocessing import LabelEncoder, OneHotEncoder\n",
    "import tensorflow as tf\n",
    "\n",
    "# Load the CSV data\n",
    "data = pd.read_csv(\"C:/Users/death/Desktop/minor_project/datasets/main_dataset/preprocessed_data_multiclass.csv\")\n",
    "\n",
    "# Data cleanup and processing\n",
    "# Drop rows with missing values\n",
    "data = data.dropna()\n",
    "\n",
    "# Initialize label encoder to encode the 'class' column\n",
    "label_encoder = LabelEncoder()\n",
    "data[\"class_encoded\"] = label_encoder.fit_transform(data[\"class\"])\n",
    "\n",
    "# Initialize TF-IDF vectorizer for tweet text\n",
    "vectorizer = TfidfVectorizer(max_features=100) \n",
    "X = vectorizer.fit_transform(data[\"clean_tweet_processed\"]).toarray()\n",
    "y = data[\"class_encoded\"]\n",
    "\n",
    "# Ensure 'y' is one-hot encoded\n",
    "onehot_encoder = OneHotEncoder(sparse_output=False)\n",
    "y = onehot_encoder.fit_transform(data[\"class_encoded\"].values.reshape(-1, 1))\n",
    "\n",
    "# Split the data into train and test sets\n",
    "X_train, X_test, y_train, y_test = train_test_split(X, y, test_size=0.1, random_state=42)\n",
    "\n",
    "import joblib\n",
    "\n",
    "# Save the fitted TF-IDF vectorizer\n",
    "vectorizer_save_path = \"tfidf_vectorizer.pkl\"\n",
    "joblib.dump(vectorizer, vectorizer_save_path)\n",
    "\n",
    "print(f\"TF-IDF vectorizer saved to {'C:\\\\Users\\\\death\\\\Desktop\\\\minor_project\\\\federated_learning'}\")\n",
    "\n"
   ]
  },
  {
   "cell_type": "code",
   "execution_count": 2,
   "metadata": {},
   "outputs": [
    {
     "name": "stdout",
     "output_type": "stream",
     "text": [
      "(464757, 100)\n",
      "(464757, 10)\n"
     ]
    }
   ],
   "source": [
    "import numpy as np\n",
    "\n",
    "# Define the number of clients (e.g., 10 clients)\n",
    "num_clients = 10\n",
    "\n",
    "# Create data shards (subsets) for each client\n",
    "def create_clients(X, y, num_clients):\n",
    "    # Shuffle the data\n",
    "    data_size = len(X)\n",
    "    shuffled_indices = np.random.permutation(data_size)\n",
    "\n",
    "    # Create partitions\n",
    "    shard_size = data_size // num_clients\n",
    "    clients_data = {}\n",
    "\n",
    "    for i in range(num_clients):\n",
    "        start = i * shard_size\n",
    "        end = start + shard_size if i != num_clients - 1 else data_size\n",
    "        clients_data[f\"client_{i + 1}\"] = (X[shuffled_indices[start:end]], y[shuffled_indices[start:end]])\n",
    "\n",
    "    return clients_data\n",
    "\n",
    "# Create the clients' data\n",
    "clients_data = create_clients(X_train, y_train, num_clients)\n",
    "\n",
    "# Display an example of client data\n",
    "print(clients_data[\"client_1\"][0].shape)  # Features\n",
    "print(clients_data[\"client_1\"][1].shape)  # Labels\n"
   ]
  },
  {
   "cell_type": "code",
   "execution_count": 3,
   "metadata": {},
   "outputs": [],
   "source": [
    "# Function to calculate the scaling factor for model weights\n",
    "def weight_scaling_factor(client_data, global_data):\n",
    "    client_size = len(client_data)\n",
    "    global_size = len(global_data)\n",
    "    return client_size / global_size\n",
    "\n",
    "# Function to scale model weights based on the scaling factor\n",
    "def scale_model_weights(model_weights, scaling_factor):\n",
    "    return [weight * scaling_factor for weight in model_weights]\n",
    "\n",
    "# Function to sum scaled model weights to create the new global model\n",
    "def sum_scaled_weights(scaled_weights):\n",
    "    new_weights = [np.zeros_like(w) for w in scaled_weights[0]]\n",
    "    for sw in scaled_weights:\n",
    "        for i in range(len(sw)):\n",
    "            new_weights[i] += sw[i]\n",
    "    return new_weights\n"
   ]
  },
  {
   "cell_type": "code",
   "execution_count": 4,
   "metadata": {},
   "outputs": [
    {
     "name": "stderr",
     "output_type": "stream",
     "text": [
      "c:\\Users\\death\\AppData\\Local\\Programs\\Python\\Python312\\Lib\\site-packages\\keras\\src\\layers\\core\\dense.py:87: UserWarning: Do not pass an `input_shape`/`input_dim` argument to a layer. When using Sequential models, prefer using an `Input(shape)` object as the first layer in the model instead.\n",
      "  super().__init__(activity_regularizer=activity_regularizer, **kwargs)\n"
     ]
    },
    {
     "name": "stdout",
     "output_type": "stream",
     "text": [
      "Round 1: Test Accuracy = 53.30%\n",
      "Round 2: Test Accuracy = 53.30%\n",
      "Round 3: Test Accuracy = 53.30%\n",
      "Round 4: Test Accuracy = 53.30%\n",
      "Round 5: Test Accuracy = 53.30%\n",
      "Round 6: Test Accuracy = 53.30%\n",
      "Round 7: Test Accuracy = 53.30%\n",
      "Round 8: Test Accuracy = 53.30%\n",
      "Round 9: Test Accuracy = 53.30%\n",
      "Round 10: Test Accuracy = 53.30%\n",
      "Test Accuracies for each communication round: [0.5329591035842896, 0.5329591035842896, 0.5329591035842896, 0.5329591035842896, 0.5329591035842896, 0.5329591035842896, 0.5329591035842896, 0.5329591035842896, 0.5329591035842896, 0.532970666885376]\n"
     ]
    }
   ],
   "source": [
    "# Define a simple model function\n",
    "def build_mlp_model(input_shape, num_classes):\n",
    "    model = tf.keras.Sequential([\n",
    "        tf.keras.layers.Dense(128, activation='relu', input_shape=(input_shape,)),\n",
    "        tf.keras.layers.Dropout(0.5),\n",
    "        tf.keras.layers.Dense(64, activation='relu'),\n",
    "        tf.keras.layers.Dropout(0.5),\n",
    "        tf.keras.layers.Dense(num_classes, activation='softmax')\n",
    "    ])\n",
    "    return model\n",
    "\n",
    "# Parameters for federated learning\n",
    "num_global_rounds = 10  # Number of global communication rounds\n",
    "local_epochs = 1  # Number of local training epochs\n",
    "batch_size = 32  # Batch size for training\n",
    "input_shape = X_train.shape[1]  # Input size (number of features)\n",
    "num_classes = y_train.shape[1]  # Number of output classes\n",
    "\n",
    "# Initialize the global model\n",
    "global_model = build_mlp_model(input_shape, num_classes)\n",
    "\n",
    "# Compile the global model\n",
    "global_model.compile(\n",
    "    optimizer=tf.keras.optimizers.SGD(learning_rate=0.01),\n",
    "    loss=\"categorical_crossentropy\",\n",
    "    metrics=[\"accuracy\"]\n",
    ")\n",
    "\n",
    "# Training loop for federated learning\n",
    "global_weights = global_model.get_weights()  # Initial global weights\n",
    "\n",
    "# List to store test accuracy after each communication round\n",
    "test_accuracies = []\n",
    "\n",
    "for round in range(num_global_rounds):\n",
    "    # List to store scaled weights from each client\n",
    "    scaled_local_weights = []\n",
    "\n",
    "    for client_name, (client_X, client_y) in clients_data.items():\n",
    "        # Build and compile a new model for the client\n",
    "        client_model = build_mlp_model(input_shape, num_classes)\n",
    "        \n",
    "        # Compile the client model\n",
    "        client_model.compile(\n",
    "            optimizer=tf.keras.optimizers.SGD(learning_rate=0.01),\n",
    "            loss=\"categorical_crossentropy\",\n",
    "            metrics=[\"accuracy\"]\n",
    "        )\n",
    "\n",
    "        # Set the global weights as the initial weights for this client model\n",
    "        client_model.set_weights(global_weights)\n",
    "\n",
    "        # Train the client model on its local data\n",
    "        client_model.fit(client_X, client_y, batch_size=batch_size, epochs=local_epochs, verbose=0)\n",
    "\n",
    "        # Get the new weights after training\n",
    "        new_weights = client_model.get_weights()\n",
    "\n",
    "        # Scale the new weights based on the client data proportion\n",
    "        scaling_factor = weight_scaling_factor(client_X, X_train)\n",
    "        scaled_weights = scale_model_weights(new_weights, scaling_factor)\n",
    "\n",
    "        # Append the scaled weights to the list\n",
    "        scaled_local_weights.append(scaled_weights)\n",
    "\n",
    "    # Aggregate the scaled weights to update the global model\n",
    "    global_weights = sum_scaled_weights(scaled_local_weights)\n",
    "    global_model.set_weights(global_weights)\n",
    "\n",
    "    # Test the global model after each communication round\n",
    "    test_loss, test_accuracy = global_model.evaluate(X_test, y_test, verbose=0)\n",
    "    test_accuracies.append(test_accuracy)\n",
    "    print(f\"Round {round + 1}: Test Accuracy = {test_accuracy * 100:.2f}%\")\n",
    "\n",
    "# Display the test accuracies for all communication rounds\n",
    "print(\"Test Accuracies for each communication round:\", test_accuracies)\n"
   ]
  }
 ],
 "metadata": {
  "kernelspec": {
   "display_name": "Python 3",
   "language": "python",
   "name": "python3"
  },
  "language_info": {
   "codemirror_mode": {
    "name": "ipython",
    "version": 3
   },
   "file_extension": ".py",
   "mimetype": "text/x-python",
   "name": "python",
   "nbconvert_exporter": "python",
   "pygments_lexer": "ipython3",
   "version": "3.12.3"
  }
 },
 "nbformat": 4,
 "nbformat_minor": 2
}

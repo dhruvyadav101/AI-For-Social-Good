{
 "cells": [
  {
   "cell_type": "code",
   "execution_count": 1,
   "metadata": {},
   "outputs": [
    {
     "name": "stdout",
     "output_type": "stream",
     "text": [
      "Naive Bayes Performance:\n",
      "                 precision    recall  f1-score   support\n",
      "\n",
      "           ADHD       0.52      0.09      0.16    302306\n",
      "        ANXIETY       0.93      0.01      0.02     58674\n",
      "         AUTISM       0.89      0.03      0.05     82221\n",
      "        BIPOLAR       0.88      0.01      0.02     59910\n",
      "        CONTROL       0.55      0.99      0.71    826900\n",
      "     DEPRESSION       0.83      0.03      0.05    101132\n",
      "EATING DISORDER       1.00      0.00      0.00     11488\n",
      "            OCD       0.92      0.00      0.01     35860\n",
      "           PTSD       0.91      0.01      0.01     58632\n",
      "  SCHIZOPHRENIA       1.00      0.00      0.01     12070\n",
      "\n",
      "       accuracy                           0.55   1549193\n",
      "      macro avg       0.84      0.12      0.10   1549193\n",
      "   weighted avg       0.64      0.55      0.42   1549193\n",
      "\n"
     ]
    }
   ],
   "source": [
    "from sklearn.model_selection import train_test_split\n",
    "from sklearn.feature_extraction.text import CountVectorizer\n",
    "from sklearn.naive_bayes import MultinomialNB\n",
    "from sklearn.metrics import classification_report\n",
    "from sklearn.pipeline import Pipeline\n",
    "from sklearn.feature_extraction.text import TfidfTransformer\n",
    "import pandas as pd\n",
    "\n",
    "# Load preprocessed data\n",
    "df = pd.read_csv('C:/Users/death/Desktop/minor_project/datasets/main_dataset/preprocessed_data_multiclass.csv')\n",
    "\n",
    "# Prepare data\n",
    "X = df['clean_tweet_processed']\n",
    "y = df['class']  # Assuming 'class' column contains class labels\n",
    "\n",
    "X_train, X_test, y_train, y_test = train_test_split(X, y, test_size=0.3, random_state=42)\n",
    "\n",
    "\n",
    "\n",
    "\n",
    "nb = Pipeline([('vect', CountVectorizer()),\n",
    "               ('tfidf', TfidfTransformer()),\n",
    "               ('clf', MultinomialNB()),\n",
    "              ])\n",
    "nb.fit(X_train, y_train)\n",
    "\n",
    "\n",
    "y_pred = nb.predict(X_test)\n",
    "print(\"Naive Bayes Performance:\")\n",
    "print(classification_report(y_test, y_pred))"
   ]
  },
  {
   "cell_type": "code",
   "execution_count": 2,
   "metadata": {},
   "outputs": [
    {
     "name": "stdout",
     "output_type": "stream",
     "text": [
      "CONTROL: 2756451\n",
      "ADHD: 1008405\n",
      "DEPRESSION: 336776\n",
      "AUTISM: 273364\n",
      "BIPOLAR: 200240\n",
      "ANXIETY: 195834\n",
      "PTSD: 195486\n",
      "OCD: 119488\n",
      "SCHIZOPHRENIA: 40115\n",
      "EATING DISORDER: 37815\n"
     ]
    }
   ],
   "source": [
    "import pandas as pd\n",
    "\n",
    "df=pd.read_csv('C:/Users/death/Desktop/minor_project/datasets/main_dataset/preprocessed_data_multiclass.csv')\n",
    "class_counts = df['class'].value_counts()\n",
    "\n",
    "# Print the count of each type\n",
    "for class_type, count in class_counts.items():\n",
    "    print(f\"{class_type}: {count}\")"
   ]
  },
  {
   "cell_type": "code",
   "execution_count": null,
   "metadata": {},
   "outputs": [],
   "source": []
  }
 ],
 "metadata": {
  "kernelspec": {
   "display_name": "Python 3",
   "language": "python",
   "name": "python3"
  },
  "language_info": {
   "codemirror_mode": {
    "name": "ipython",
    "version": 3
   },
   "file_extension": ".py",
   "mimetype": "text/x-python",
   "name": "python",
   "nbconvert_exporter": "python",
   "pygments_lexer": "ipython3",
   "version": "3.12.1"
  }
 },
 "nbformat": 4,
 "nbformat_minor": 2
}
